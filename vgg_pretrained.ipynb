{
 "cells": [
  {
   "cell_type": "code",
   "execution_count": 1,
   "metadata": {
    "collapsed": true
   },
   "outputs": [],
   "source": [
    "import torch as t\n",
    "from torch.autograd import Variable as V\n",
    "from torch import nn\n",
    "from torchvision.models import vgg16"
   ]
  },
  {
   "cell_type": "markdown",
   "metadata": {},
   "source": [
    "### 1. Use a conv layer in pytorch"
   ]
  },
  {
   "cell_type": "code",
   "execution_count": 2,
   "metadata": {},
   "outputs": [
    {
     "name": "stdout",
     "output_type": "stream",
     "text": [
      "torch.Size([1, 64, 225, 225])\n"
     ]
    }
   ],
   "source": [
    "img = t.randn((1,3,227,227))\n",
    "img = V(img)\n",
    "conv1 = nn.Conv2d(3,64,(3,3))\n",
    "features = conv1(img)\n",
    "print(features.shape)"
   ]
  },
  {
   "cell_type": "markdown",
   "metadata": {},
   "source": [
    "### 2. Total pretrained VGG16 net"
   ]
  },
  {
   "cell_type": "code",
   "execution_count": 3,
   "metadata": {
    "collapsed": true
   },
   "outputs": [],
   "source": [
    "model = vgg16(pretrained=True)\n",
    "extractor = model.features\n",
    "classifier = model.classifier"
   ]
  },
  {
   "cell_type": "code",
   "execution_count": 4,
   "metadata": {
    "scrolled": false
   },
   "outputs": [
    {
     "data": {
      "text/plain": [
       "Sequential(\n",
       "  (0): Conv2d(3, 64, kernel_size=(3, 3), stride=(1, 1), padding=(1, 1))\n",
       "  (1): ReLU(inplace)\n",
       "  (2): Conv2d(64, 64, kernel_size=(3, 3), stride=(1, 1), padding=(1, 1))\n",
       "  (3): ReLU(inplace)\n",
       "  (4): MaxPool2d(kernel_size=2, stride=2, padding=0, dilation=1, ceil_mode=False)\n",
       "  (5): Conv2d(64, 128, kernel_size=(3, 3), stride=(1, 1), padding=(1, 1))\n",
       "  (6): ReLU(inplace)\n",
       "  (7): Conv2d(128, 128, kernel_size=(3, 3), stride=(1, 1), padding=(1, 1))\n",
       "  (8): ReLU(inplace)\n",
       "  (9): MaxPool2d(kernel_size=2, stride=2, padding=0, dilation=1, ceil_mode=False)\n",
       "  (10): Conv2d(128, 256, kernel_size=(3, 3), stride=(1, 1), padding=(1, 1))\n",
       "  (11): ReLU(inplace)\n",
       "  (12): Conv2d(256, 256, kernel_size=(3, 3), stride=(1, 1), padding=(1, 1))\n",
       "  (13): ReLU(inplace)\n",
       "  (14): Conv2d(256, 256, kernel_size=(3, 3), stride=(1, 1), padding=(1, 1))\n",
       "  (15): ReLU(inplace)\n",
       "  (16): MaxPool2d(kernel_size=2, stride=2, padding=0, dilation=1, ceil_mode=False)\n",
       "  (17): Conv2d(256, 512, kernel_size=(3, 3), stride=(1, 1), padding=(1, 1))\n",
       "  (18): ReLU(inplace)\n",
       "  (19): Conv2d(512, 512, kernel_size=(3, 3), stride=(1, 1), padding=(1, 1))\n",
       "  (20): ReLU(inplace)\n",
       "  (21): Conv2d(512, 512, kernel_size=(3, 3), stride=(1, 1), padding=(1, 1))\n",
       "  (22): ReLU(inplace)\n",
       "  (23): MaxPool2d(kernel_size=2, stride=2, padding=0, dilation=1, ceil_mode=False)\n",
       "  (24): Conv2d(512, 512, kernel_size=(3, 3), stride=(1, 1), padding=(1, 1))\n",
       "  (25): ReLU(inplace)\n",
       "  (26): Conv2d(512, 512, kernel_size=(3, 3), stride=(1, 1), padding=(1, 1))\n",
       "  (27): ReLU(inplace)\n",
       "  (28): Conv2d(512, 512, kernel_size=(3, 3), stride=(1, 1), padding=(1, 1))\n",
       "  (29): ReLU(inplace)\n",
       "  (30): MaxPool2d(kernel_size=2, stride=2, padding=0, dilation=1, ceil_mode=False)\n",
       ")"
      ]
     },
     "execution_count": 4,
     "metadata": {},
     "output_type": "execute_result"
    }
   ],
   "source": [
    "# check the extractor part of VGG16\n",
    "extractor"
   ]
  },
  {
   "cell_type": "code",
   "execution_count": 5,
   "metadata": {
    "scrolled": true
   },
   "outputs": [
    {
     "data": {
      "text/plain": [
       "Sequential(\n",
       "  (0): Linear(in_features=25088, out_features=4096, bias=True)\n",
       "  (1): ReLU(inplace)\n",
       "  (2): Dropout(p=0.5)\n",
       "  (3): Linear(in_features=4096, out_features=4096, bias=True)\n",
       "  (4): ReLU(inplace)\n",
       "  (5): Dropout(p=0.5)\n",
       "  (6): Linear(in_features=4096, out_features=1000, bias=True)\n",
       ")"
      ]
     },
     "execution_count": 5,
     "metadata": {},
     "output_type": "execute_result"
    }
   ],
   "source": [
    "# check the classifier part of VGG16\n",
    "classifier"
   ]
  },
  {
   "cell_type": "code",
   "execution_count": 6,
   "metadata": {},
   "outputs": [
    {
     "data": {
      "text/plain": [
       "torch.Size([1, 512, 7, 7])"
      ]
     },
     "execution_count": 6,
     "metadata": {},
     "output_type": "execute_result"
    }
   ],
   "source": [
    "feature = extractor(img)\n",
    "feature.shape # 2**5=32个downsampling"
   ]
  },
  {
   "cell_type": "markdown",
   "metadata": {},
   "source": [
    "### 3. Just use part of the pretrained model"
   ]
  },
  {
   "cell_type": "code",
   "execution_count": 2,
   "metadata": {
    "collapsed": true
   },
   "outputs": [],
   "source": [
    "# put the VGG pretrained model here\n",
    "vgg_checkpoint = \"/root/.torch/models/vgg16-397923af.pth\""
   ]
  },
  {
   "cell_type": "markdown",
   "metadata": {},
   "source": [
    "#### 3.1 Drop the last FC layer"
   ]
  },
  {
   "cell_type": "code",
   "execution_count": 8,
   "metadata": {},
   "outputs": [],
   "source": [
    "# A VGG16 without the last FC layer\n",
    "class EncoderCNN(nn.Module):\n",
    "\n",
    "    def __init__(self):\n",
    "        super(EncoderCNN, self).__init__()\n",
    "        self.vgg = vgg16()\n",
    "        self.vgg.load_state_dict(t.load(vgg_checkpoint))\n",
    "        # rewrite the classifler, just use 0-5 layers\n",
    "        self.vgg.classifier = nn.Sequential(\n",
    "            *(self.vgg.classifier[i] for i in range(6)))\n",
    "\n",
    "    def forward(self, images):\n",
    "        return self.vgg(images)"
   ]
  },
  {
   "cell_type": "code",
   "execution_count": 9,
   "metadata": {},
   "outputs": [
    {
     "data": {
      "text/plain": [
       "torch.Size([1, 4096])"
      ]
     },
     "execution_count": 9,
     "metadata": {},
     "output_type": "execute_result"
    }
   ],
   "source": [
    "model = EncoderCNN()\n",
    "r = model(img)\n",
    "r.shape"
   ]
  },
  {
   "cell_type": "markdown",
   "metadata": {},
   "source": [
    "#### 3.2 Drop whatever layer you want"
   ]
  },
  {
   "cell_type": "code",
   "execution_count": 10,
   "metadata": {
    "collapsed": true
   },
   "outputs": [],
   "source": [
    "class EncoderCNN(nn.Module):\n",
    "\n",
    "    def __init__(self):\n",
    "        super(EncoderCNN, self).__init__()\n",
    "        \n",
    "        vgg = vgg16()\n",
    "        vgg.load_state_dict(t.load(vgg_checkpoint))\n",
    "        \n",
    "        # keep the extractor\n",
    "        self.extractor = vgg.extractor\n",
    "        \n",
    "        # classifier\n",
    "        classifier = vgg.classifier\n",
    "        classifier = list(classifier)\n",
    "        del classifier[6] # drop the last FC layer\n",
    "        del classifier[2] # drop the 1st dropout layer\n",
    "        del classifier[5] # drop the 2nd dropout layer\n",
    "        self.classifier = nn.Sequential(*classifier)\n",
    "\n",
    "    def forward(self, images):\n",
    "        features = self.extractor(images)\n",
    "        r = self.classifier(features)\n",
    "        return r"
   ]
  },
  {
   "cell_type": "code",
   "execution_count": null,
   "metadata": {
    "collapsed": true
   },
   "outputs": [],
   "source": [
    "model = EncoderCNN()\n",
    "r = model(img)\n",
    "r.shape"
   ]
  },
  {
   "cell_type": "markdown",
   "metadata": {},
   "source": [
    "#### 3.3 Use extractor in VGG16 to generate multi feature map "
   ]
  },
  {
   "cell_type": "markdown",
   "metadata": {},
   "source": [
    "- 15的输出是conv3\n",
    "- 22的输出是conv4\n",
    "- 29的输出是conv5"
   ]
  },
  {
   "cell_type": "code",
   "execution_count": 9,
   "metadata": {
    "collapsed": true
   },
   "outputs": [],
   "source": [
    "class EncoderCNN(nn.Module):\n",
    "\n",
    "    def __init__(self):\n",
    "        super(EncoderCNN, self).__init__()\n",
    "        \n",
    "        vgg = vgg16()\n",
    "        vgg.load_state_dict(t.load(vgg_checkpoint))\n",
    "        \n",
    "        # keep the extractor\n",
    "        extractor = vgg.features\n",
    "        extractor = list(extractor)\n",
    "        \n",
    "        stage_1 = extractor[0:16]\n",
    "        self.stage_1 = nn.Sequential(*stage_1)\n",
    "        \n",
    "        stage_2 = extractor[16:23]\n",
    "        self.stage_2 = nn.Sequential(*stage_2)        \n",
    "        \n",
    "        stage_3 = extractor[23:30]\n",
    "        self.stage_3 = nn.Sequential(*stage_3)       \n",
    "        \n",
    "\n",
    "    def forward(self, images):\n",
    "        conv3_3 = self.stage_1(images)\n",
    "        conv4_3 = self.stage_2(conv3_3)\n",
    "        conv5_3 = self.stage_3(conv4_3)\n",
    "        return [conv3_3, conv4_3, conv5_3]"
   ]
  },
  {
   "cell_type": "code",
   "execution_count": 10,
   "metadata": {},
   "outputs": [],
   "source": [
    "model = EncoderCNN()"
   ]
  },
  {
   "cell_type": "code",
   "execution_count": 11,
   "metadata": {},
   "outputs": [
    {
     "name": "stdout",
     "output_type": "stream",
     "text": [
      "torch.Size([1, 64, 225, 225])\n"
     ]
    }
   ],
   "source": [
    "img = t.randn((1,3,227,227))\n",
    "img = V(img)\n",
    "conv1 = nn.Conv2d(3,64,(3,3))\n",
    "features = conv1(img)\n",
    "print(features.shape)"
   ]
  },
  {
   "cell_type": "code",
   "execution_count": 12,
   "metadata": {
    "collapsed": true
   },
   "outputs": [],
   "source": [
    "r = model(img)"
   ]
  },
  {
   "cell_type": "code",
   "execution_count": 15,
   "metadata": {},
   "outputs": [
    {
     "name": "stdout",
     "output_type": "stream",
     "text": [
      "torch.Size([1, 256, 56, 56])\n",
      "torch.Size([1, 512, 28, 28])\n",
      "torch.Size([1, 512, 14, 14])\n"
     ]
    }
   ],
   "source": [
    "for i in r : print(i.shape)"
   ]
  },
  {
   "cell_type": "markdown",
   "metadata": {},
   "source": [
    "### 4. Build a classifier based on 3 feature maps "
   ]
  },
  {
   "cell_type": "markdown",
   "metadata": {},
   "source": [
    "- VGG16 is applied to generate a basic classifier on CIFAR-10 dataset.\n",
    "- ROI pooling is applied to generate same shape feature maps of 7*7."
   ]
  },
  {
   "cell_type": "markdown",
   "metadata": {},
   "source": [
    "#### 4.1 test the output of adaptivepooling"
   ]
  },
  {
   "cell_type": "code",
   "execution_count": 3,
   "metadata": {},
   "outputs": [],
   "source": [
    "import torch as t\n",
    "from torch.nn import AdaptiveAvgPool2d\n",
    "from torch.autograd import Variable as V\n",
    "\n",
    "import numpy as np"
   ]
  },
  {
   "cell_type": "code",
   "execution_count": 47,
   "metadata": {},
   "outputs": [],
   "source": [
    "p = AdaptiveAvgPool2d((2,2))"
   ]
  },
  {
   "cell_type": "code",
   "execution_count": 48,
   "metadata": {},
   "outputs": [],
   "source": [
    "x = np.arange(25)\n",
    "x = x.reshape((5,5))\n",
    "x = t.Tensor(x)\n",
    "x = t.unsqueeze(x, dim=0)\n",
    "r = p(V(x))"
   ]
  },
  {
   "cell_type": "code",
   "execution_count": 55,
   "metadata": {},
   "outputs": [
    {
     "name": "stdout",
     "output_type": "stream",
     "text": [
      "tensor([[[  6.,   8.],\n",
      "         [ 16.,  18.]]])\n",
      "tensor([[[  0.,   1.,   2.,   3.,   4.],\n",
      "         [  5.,   6.,   7.,   8.,   9.],\n",
      "         [ 10.,  11.,  12.,  13.,  14.],\n",
      "         [ 15.,  16.,  17.,  18.,  19.],\n",
      "         [ 20.,  21.,  22.,  23.,  24.]]])\n",
      "torch.Size([1, 2, 2])\n"
     ]
    }
   ],
   "source": [
    "print(r)\n",
    "print(x)\n",
    "print(r.shape)"
   ]
  },
  {
   "cell_type": "markdown",
   "metadata": {},
   "source": [
    "#### 4.2 build net"
   ]
  },
  {
   "cell_type": "code",
   "execution_count": 4,
   "metadata": {
    "collapsed": true
   },
   "outputs": [],
   "source": [
    "class shift_VGG(nn.Module):\n",
    "\n",
    "    def __init__(self, roi_dim):\n",
    "        super(shift_VGG, self).__init__()\n",
    "        \n",
    "        vgg = vgg16()\n",
    "        vgg.load_state_dict(t.load(vgg_checkpoint))\n",
    "        \n",
    "        # keep the extractor\n",
    "        extractor = vgg.features\n",
    "        extractor = list(extractor)\n",
    "        classifier = vgg.classifier\n",
    "        classifier = list(classifier)\n",
    "        del classifier[6]\n",
    "        \n",
    "        stage_1 = extractor[0:16]\n",
    "        self.stage_1 = nn.Sequential(*stage_1)      \n",
    "        stage_2 = extractor[16:23]\n",
    "        self.stage_2 = nn.Sequential(*stage_2)               \n",
    "        stage_3 = extractor[23:30]\n",
    "        self.stage_3 = nn.Sequential(*stage_3)  \n",
    "        \n",
    "        self.roipooling_1 = nn.AdaptiveAvgPool2d(roi_dim) # for conv3_3\n",
    "        self.roipooling_2 = nn.AdaptiveAvgPool2d(roi_dim) # for conv4_3\n",
    "        self.roipooling_3 = nn.AdaptiveAvgPool2d(roi_dim) # for conv5_3\n",
    "        \n",
    "        self.conv_1 = nn.Conv2d(1280, 512, (1,1)) # 1*1 conv layer\n",
    "        \n",
    "        self.classifier = nn.Sequential(*classifier)\n",
    "        self.linear = nn.Linear(4096, 10)\n",
    "\n",
    "    def forward(self, images):\n",
    "        \n",
    "        conv3_3 = self.stage_1(images)\n",
    "        conv4_3 = self.stage_2(conv3_3)\n",
    "        conv5_3 = self.stage_3(conv4_3)\n",
    "        \n",
    "        feature_3 = self.roipooling_1(conv3_3)  # 256\n",
    "        feature_4 = self.roipooling_2(conv4_3)  # 512\n",
    "        feature_5 = self.roipooling_3(conv5_3)  # 512\n",
    "        \n",
    "        features = t.cat([feature_3, feature_4, feature_5], dim=1)\n",
    "        \n",
    "        re_features = self.conv_1(features)\n",
    "        l = self.classifier(re_features)\n",
    "        output = self.linear(l)\n",
    "          \n",
    "        return output"
   ]
  },
  {
   "cell_type": "code",
   "execution_count": 5,
   "metadata": {},
   "outputs": [
    {
     "name": "stdout",
     "output_type": "stream",
     "text": [
      "torch.Size([3, 112, 112])\n",
      "torch.Size([1, 3, 112, 112])\n"
     ]
    }
   ],
   "source": [
    "x = np.arange(112**2)\n",
    "x = x.reshape((112,112))\n",
    "x = t.Tensor(x)\n",
    "x = t.unsqueeze(x, dim=0)\n",
    "x = x.repeat((3,1,1))\n",
    "print(x.shape)\n",
    "x = t.unsqueeze(x, dim=0)\n",
    "print(x.shape)"
   ]
  },
  {
   "cell_type": "code",
   "execution_count": null,
   "metadata": {},
   "outputs": [],
   "source": [
    "net = shift_VGG(roi_dim=7)"
   ]
  },
  {
   "cell_type": "code",
   "execution_count": null,
   "metadata": {},
   "outputs": [],
   "source": [
    "net(x)"
   ]
  },
  {
   "cell_type": "code",
   "execution_count": null,
   "metadata": {
    "collapsed": true
   },
   "outputs": [],
   "source": []
  }
 ],
 "metadata": {
  "kernelspec": {
   "display_name": "Python 3",
   "language": "python",
   "name": "python3"
  },
  "language_info": {
   "codemirror_mode": {
    "name": "ipython",
    "version": 3
   },
   "file_extension": ".py",
   "mimetype": "text/x-python",
   "name": "python",
   "nbconvert_exporter": "python",
   "pygments_lexer": "ipython3",
   "version": "3.5.2"
  }
 },
 "nbformat": 4,
 "nbformat_minor": 2
}
